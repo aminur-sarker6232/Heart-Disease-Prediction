{
  "cells": [
    {
      "cell_type": "code",
      "execution_count": null,
      "id": "6779e0af-300a-40bf-9744-d07e4833af45",
      "metadata": {
        "id": "6779e0af-300a-40bf-9744-d07e4833af45"
      },
      "outputs": [],
      "source": [
        "import numpy as np\n",
        "import pandas as pd\n",
        "import matplotlib.pyplot as plt\n"
      ]
    },
    {
      "cell_type": "markdown",
      "source": [
        "## For google colab"
      ],
      "metadata": {
        "id": "W80ir6snumoh"
      },
      "id": "W80ir6snumoh"
    },
    {
      "cell_type": "code",
      "source": [
        "# from google.colab import drive\n",
        "# drive.mount('/content/drive')\n",
        "# df = pd.read_csv('/content/drive/My Drive/Learning Note/Heart disease prediction/cardio_train.csv', sep=\";\")"
      ],
      "metadata": {
        "id": "91_oDuO0usxQ"
      },
      "id": "91_oDuO0usxQ",
      "execution_count": null,
      "outputs": []
    },
    {
      "cell_type": "markdown",
      "source": [
        "### Datasets from github\n"
      ],
      "metadata": {
        "id": "D4sDLczRuvIX"
      },
      "id": "D4sDLczRuvIX"
    },
    {
      "cell_type": "code",
      "execution_count": null,
      "id": "0b93d6cf-f743-4db4-a890-c7947909a4af",
      "metadata": {
        "id": "0b93d6cf-f743-4db4-a890-c7947909a4af"
      },
      "outputs": [],
      "source": [
        "df = pd.read_csv('https://raw.githubusercontent.com/aminur-sarker6232/Heart-Disease-Prediction/refs/heads/main/cardio_train.csv', sep=\";\")\n",
        "df"
      ]
    },
    {
      "cell_type": "code",
      "execution_count": null,
      "id": "1102cf44-5fde-49cf-8108-6b4d1519e9e6",
      "metadata": {
        "id": "1102cf44-5fde-49cf-8108-6b4d1519e9e6"
      },
      "outputs": [],
      "source": [
        "df.isnull().sum()"
      ]
    },
    {
      "cell_type": "code",
      "source": [
        "df['age'] = df['age']/365\n",
        "df['age']"
      ],
      "metadata": {
        "id": "8Or6nr6VkEVl"
      },
      "id": "8Or6nr6VkEVl",
      "execution_count": null,
      "outputs": []
    },
    {
      "cell_type": "code",
      "execution_count": null,
      "id": "4850edbb-baf1-4a0b-b9e3-48a7453b471e",
      "metadata": {
        "id": "4850edbb-baf1-4a0b-b9e3-48a7453b471e"
      },
      "outputs": [],
      "source": [
        "df.corr()"
      ]
    },
    {
      "cell_type": "code",
      "execution_count": null,
      "id": "ef2f6eb5-e1b3-4113-9d54-e551bfb683f2",
      "metadata": {
        "id": "ef2f6eb5-e1b3-4113-9d54-e551bfb683f2"
      },
      "outputs": [],
      "source": [
        "df_without_id = df.drop('id',axis='columns')\n",
        "df_without_id"
      ]
    },
    {
      "cell_type": "code",
      "source": [
        "# import seaborn as sns\n",
        "# sns.boxplot(df['cardio'])\n",
        "\n",
        "# sns.violinplot(x=df['cardio'])\n",
        "# plt.show()\n"
      ],
      "metadata": {
        "id": "3sEfNjNCa65v"
      },
      "id": "3sEfNjNCa65v",
      "execution_count": null,
      "outputs": []
    },
    {
      "cell_type": "code",
      "execution_count": null,
      "id": "29b475e6-60e7-487a-b13d-27ace3150d7b",
      "metadata": {
        "id": "29b475e6-60e7-487a-b13d-27ace3150d7b"
      },
      "outputs": [],
      "source": [
        "x_values = df_without_id.iloc[:,:-1]"
      ]
    },
    {
      "cell_type": "code",
      "execution_count": null,
      "id": "36bd7be7-b3ed-4204-a959-49589f670fc4",
      "metadata": {
        "id": "36bd7be7-b3ed-4204-a959-49589f670fc4"
      },
      "outputs": [],
      "source": [
        "x_values"
      ]
    },
    {
      "cell_type": "code",
      "execution_count": null,
      "id": "11d21a5c-1892-4540-940f-b9a762b185dc",
      "metadata": {
        "id": "11d21a5c-1892-4540-940f-b9a762b185dc"
      },
      "outputs": [],
      "source": [
        "y_values = df_without_id.iloc[:,11]"
      ]
    },
    {
      "cell_type": "code",
      "execution_count": null,
      "id": "c280bb22-c7be-4453-8c5c-3f6e8f0e8ae8",
      "metadata": {
        "id": "c280bb22-c7be-4453-8c5c-3f6e8f0e8ae8"
      },
      "outputs": [],
      "source": [
        "y_values"
      ]
    },
    {
      "cell_type": "markdown",
      "id": "cea885de-2943-4cca-a8e2-512f9ea95951",
      "metadata": {
        "id": "cea885de-2943-4cca-a8e2-512f9ea95951"
      },
      "source": [
        "### Important Features Selection ###"
      ]
    },
    {
      "cell_type": "code",
      "execution_count": null,
      "id": "bd4461ab-64e2-4853-bf46-fb4ff28ebcc1",
      "metadata": {
        "id": "bd4461ab-64e2-4853-bf46-fb4ff28ebcc1"
      },
      "outputs": [],
      "source": [
        "from sklearn.feature_selection import SelectKBest"
      ]
    },
    {
      "cell_type": "code",
      "execution_count": null,
      "id": "d9341799-e9b5-41c8-a716-4873c1623199",
      "metadata": {
        "id": "d9341799-e9b5-41c8-a716-4873c1623199"
      },
      "outputs": [],
      "source": [
        "from sklearn.feature_selection import f_classif"
      ]
    },
    {
      "cell_type": "code",
      "execution_count": null,
      "id": "6ca5814f-6858-4196-b6b1-78b6efb6c1ad",
      "metadata": {
        "id": "6ca5814f-6858-4196-b6b1-78b6efb6c1ad"
      },
      "outputs": [],
      "source": [
        "Fit_Features = SelectKBest(score_func = f_classif)"
      ]
    },
    {
      "cell_type": "code",
      "execution_count": null,
      "id": "dff88fb3-f530-4c61-8788-b53ffd45a7e8",
      "metadata": {
        "id": "dff88fb3-f530-4c61-8788-b53ffd45a7e8"
      },
      "outputs": [],
      "source": [
        "Fit_Features.fit(x_values, y_values)"
      ]
    },
    {
      "cell_type": "code",
      "execution_count": null,
      "id": "cc014ad0-fc0a-4dc1-b5ce-97874d2d6f13",
      "metadata": {
        "id": "cc014ad0-fc0a-4dc1-b5ce-97874d2d6f13"
      },
      "outputs": [],
      "source": [
        "score_col = pd.DataFrame(Fit_Features.scores_,columns = [\"Best_score_col\"])\n",
        "score_col"
      ]
    },
    {
      "cell_type": "code",
      "execution_count": null,
      "id": "f08e23c0-8274-45d1-8340-09ed13756d5c",
      "metadata": {
        "id": "f08e23c0-8274-45d1-8340-09ed13756d5c"
      },
      "outputs": [],
      "source": [
        "Name_col = pd.DataFrame(x_values.columns)"
      ]
    },
    {
      "cell_type": "code",
      "execution_count": null,
      "id": "7109543e-6076-483d-934a-0ea2fdf77cf8",
      "metadata": {
        "id": "7109543e-6076-483d-934a-0ea2fdf77cf8"
      },
      "outputs": [],
      "source": [
        "Best_Featuresz_DFrame = pd.concat([Name_col,score_col], axis =1)\n",
        "Best_Featuresz_DFrame"
      ]
    },
    {
      "cell_type": "code",
      "execution_count": null,
      "id": "03f94d08-5827-4517-b8d1-ea42e73cfac3",
      "metadata": {
        "id": "03f94d08-5827-4517-b8d1-ea42e73cfac3"
      },
      "outputs": [],
      "source": [
        "Best_Featuresz_DFrame.nlargest(8, 'Best_score_col')"
      ]
    },
    {
      "cell_type": "markdown",
      "id": "b3cd5428-8cd2-4fb8-a535-0d7174de9849",
      "metadata": {
        "id": "b3cd5428-8cd2-4fb8-a535-0d7174de9849"
      },
      "source": [
        "### Features Importance Tecniques"
      ]
    },
    {
      "cell_type": "code",
      "execution_count": null,
      "id": "638ae21d-e033-406b-a38b-412ec79555c5",
      "metadata": {
        "id": "638ae21d-e033-406b-a38b-412ec79555c5"
      },
      "outputs": [],
      "source": [
        "from sklearn.ensemble import ExtraTreesClassifier"
      ]
    },
    {
      "cell_type": "code",
      "execution_count": null,
      "id": "46a9d772-eca8-4f5f-9a35-c5bba1a757e6",
      "metadata": {
        "id": "46a9d772-eca8-4f5f-9a35-c5bba1a757e6"
      },
      "outputs": [],
      "source": [
        "ExtraTrees = ExtraTreesClassifier()"
      ]
    },
    {
      "cell_type": "code",
      "execution_count": null,
      "id": "d6661538-12b6-4278-98cd-59b5fcf39e24",
      "metadata": {
        "id": "d6661538-12b6-4278-98cd-59b5fcf39e24"
      },
      "outputs": [],
      "source": [
        "ExtraTrees.fit(x_values, y_values)"
      ]
    },
    {
      "cell_type": "code",
      "execution_count": null,
      "id": "384bff5a-cf69-4774-a80f-4eaceb75fc3e",
      "metadata": {
        "id": "384bff5a-cf69-4774-a80f-4eaceb75fc3e"
      },
      "outputs": [],
      "source": [
        "ExtraTrees.feature_importances_"
      ]
    },
    {
      "cell_type": "code",
      "execution_count": null,
      "id": "4ada2e19-745a-4a40-b100-a9eecee0570f",
      "metadata": {
        "id": "4ada2e19-745a-4a40-b100-a9eecee0570f"
      },
      "outputs": [],
      "source": [
        "most_importances_features = pd.Series(ExtraTrees.feature_importances_, index = x_values.columns)"
      ]
    },
    {
      "cell_type": "code",
      "execution_count": null,
      "id": "5116c092-3db1-4c28-9313-6b386f925329",
      "metadata": {
        "id": "5116c092-3db1-4c28-9313-6b386f925329"
      },
      "outputs": [],
      "source": [
        "most_importances_features"
      ]
    },
    {
      "cell_type": "code",
      "execution_count": null,
      "id": "6739c1e6-433f-4d24-bd7d-879a1b438664",
      "metadata": {
        "id": "6739c1e6-433f-4d24-bd7d-879a1b438664"
      },
      "outputs": [],
      "source": [
        "most_importances_features.nlargest(8)"
      ]
    },
    {
      "cell_type": "code",
      "execution_count": null,
      "id": "3c474a8a-04ea-46a1-be8a-ce7d5363e201",
      "metadata": {
        "id": "3c474a8a-04ea-46a1-be8a-ce7d5363e201"
      },
      "outputs": [],
      "source": [
        "most_importances_features.nlargest(8).plot(kind=\"barh\")"
      ]
    },
    {
      "cell_type": "code",
      "execution_count": null,
      "id": "a4ac1d29-8126-46ae-af2f-8cfb56702b42",
      "metadata": {
        "id": "a4ac1d29-8126-46ae-af2f-8cfb56702b42"
      },
      "outputs": [],
      "source": [
        "# df_after_drop_less_imp_cols = df_without_id.drop([\"alco\"],axis =1)\n",
        "# df_after_drop_less_imp_cols"
      ]
    },
    {
      "cell_type": "code",
      "execution_count": null,
      "id": "c35ff18f-71c1-4e5d-b249-cc6ce455845f",
      "metadata": {
        "id": "c35ff18f-71c1-4e5d-b249-cc6ce455845f"
      },
      "outputs": [],
      "source": [
        "x= df_without_id.iloc[:,:-1]\n",
        "y= df_without_id.iloc[:,11]\n"
      ]
    },
    {
      "cell_type": "code",
      "execution_count": null,
      "id": "c8343c9d-53d3-42ec-9c41-b1e88a7b2772",
      "metadata": {
        "id": "c8343c9d-53d3-42ec-9c41-b1e88a7b2772"
      },
      "outputs": [],
      "source": [
        "x"
      ]
    },
    {
      "cell_type": "code",
      "execution_count": null,
      "id": "90ce7b27-6ad0-44a1-89e3-d9baf585d775",
      "metadata": {
        "id": "90ce7b27-6ad0-44a1-89e3-d9baf585d775"
      },
      "outputs": [],
      "source": [
        "y"
      ]
    },
    {
      "cell_type": "code",
      "execution_count": null,
      "id": "4781a9f4-3022-48f6-827a-9c5c7d5d2d7a",
      "metadata": {
        "id": "4781a9f4-3022-48f6-827a-9c5c7d5d2d7a"
      },
      "outputs": [],
      "source": [
        "from sklearn.model_selection import train_test_split"
      ]
    },
    {
      "cell_type": "code",
      "execution_count": null,
      "id": "7d9d7a3f-6a6f-4749-92da-7d877a4947d0",
      "metadata": {
        "id": "7d9d7a3f-6a6f-4749-92da-7d877a4947d0"
      },
      "outputs": [],
      "source": [
        "xtrain, xtest, ytrain, ytest = train_test_split(x, y, test_size=.3, random_state=1)"
      ]
    },
    {
      "cell_type": "code",
      "execution_count": null,
      "id": "752fbfdd-e9d4-458a-b9ea-2be5b6793218",
      "metadata": {
        "id": "752fbfdd-e9d4-458a-b9ea-2be5b6793218"
      },
      "outputs": [],
      "source": [
        "xtrain"
      ]
    },
    {
      "cell_type": "code",
      "execution_count": null,
      "id": "e24b764c-fd3f-46e7-99cd-c99e674198a2",
      "metadata": {
        "id": "e24b764c-fd3f-46e7-99cd-c99e674198a2"
      },
      "outputs": [],
      "source": [
        "#RandomforestClassifier algorithm\n",
        "from sklearn.ensemble import RandomForestClassifier"
      ]
    },
    {
      "cell_type": "code",
      "execution_count": null,
      "id": "1c4d84dd-2e1a-47dc-a962-22c1db74b800",
      "metadata": {
        "id": "1c4d84dd-2e1a-47dc-a962-22c1db74b800"
      },
      "outputs": [],
      "source": [
        "RFCF =RandomForestClassifier()\n",
        "RFCF.fit(xtrain, ytrain)"
      ]
    },
    {
      "cell_type": "code",
      "execution_count": null,
      "id": "48f351cd-e251-4a8e-93b4-9f895a945f90",
      "metadata": {
        "id": "48f351cd-e251-4a8e-93b4-9f895a945f90"
      },
      "outputs": [],
      "source": [
        "RFCF.score(xtest, ytest)"
      ]
    },
    {
      "cell_type": "code",
      "execution_count": null,
      "id": "89e6740d-d024-4c85-84c3-cf6f724edfd2",
      "metadata": {
        "id": "89e6740d-d024-4c85-84c3-cf6f724edfd2"
      },
      "outputs": [],
      "source": [
        "#DecitionTreeClassifier akgorithm\n",
        "from sklearn.tree import DecisionTreeClassifier"
      ]
    },
    {
      "cell_type": "code",
      "execution_count": null,
      "id": "adc3603e-58a0-4001-b502-4607379d7999",
      "metadata": {
        "id": "adc3603e-58a0-4001-b502-4607379d7999"
      },
      "outputs": [],
      "source": [
        "decitiontree = DecisionTreeClassifier()"
      ]
    },
    {
      "cell_type": "code",
      "execution_count": null,
      "id": "4f17ee7b-9808-4371-89b5-3ca7ab98c86f",
      "metadata": {
        "id": "4f17ee7b-9808-4371-89b5-3ca7ab98c86f"
      },
      "outputs": [],
      "source": [
        "decitiontree.fit(xtrain, ytrain)"
      ]
    },
    {
      "cell_type": "code",
      "execution_count": null,
      "id": "d5a7c417-11b3-4c8c-8b65-b2aca98b09f8",
      "metadata": {
        "id": "d5a7c417-11b3-4c8c-8b65-b2aca98b09f8"
      },
      "outputs": [],
      "source": [
        "decitiontree.score(xtest, ytest)"
      ]
    }
  ],
  "metadata": {
    "kernelspec": {
      "display_name": "Python 3 (ipykernel)",
      "language": "python",
      "name": "python3"
    },
    "language_info": {
      "codemirror_mode": {
        "name": "ipython",
        "version": 3
      },
      "file_extension": ".py",
      "mimetype": "text/x-python",
      "name": "python",
      "nbconvert_exporter": "python",
      "pygments_lexer": "ipython3",
      "version": "3.12.4"
    },
    "colab": {
      "provenance": []
    }
  },
  "nbformat": 4,
  "nbformat_minor": 5
}